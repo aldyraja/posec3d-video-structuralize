{
 "cells": [
  {
   "cell_type": "markdown",
   "id": "0a83e8aa-9403-42e3-ab17-07b34e1e49fa",
   "metadata": {},
   "source": [
    "## Training from bash"
   ]
  },
  {
   "cell_type": "code",
   "execution_count": null,
   "id": "d7bdfe89-b1e2-4238-940d-7586d302535a",
   "metadata": {},
   "outputs": [],
   "source": [
    "!python mmaction2/tools/train.py mmaction2/configs/skeleton/posec3d/ciis_pretrained.py \\\n",
    "    --work-dir work_dirs/ciis_pretrained \\\n",
    "    --seed 0"
   ]
  },
  {
   "cell_type": "markdown",
   "id": "a6244f32-9406-4f93-b9c6-6cdc7557dccf",
   "metadata": {},
   "source": [
    "## Training from python"
   ]
  },
  {
   "cell_type": "code",
   "execution_count": null,
   "id": "58277942-38cb-4917-87da-8a78a2b2fa3c",
   "metadata": {},
   "outputs": [],
   "source": []
  }
 ],
 "metadata": {
  "kernelspec": {
   "display_name": "Python 3 (ipykernel)",
   "language": "python",
   "name": "python3"
  },
  "language_info": {
   "codemirror_mode": {
    "name": "ipython",
    "version": 3
   },
   "file_extension": ".py",
   "mimetype": "text/x-python",
   "name": "python",
   "nbconvert_exporter": "python",
   "pygments_lexer": "ipython3",
   "version": "3.8.18"
  }
 },
 "nbformat": 4,
 "nbformat_minor": 5
}
