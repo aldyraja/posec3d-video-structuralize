{
 "cells": [
  {
   "cell_type": "code",
   "execution_count": null,
   "id": "5a78f939-0bf8-4729-ab0f-88317e09ba07",
   "metadata": {},
   "outputs": [],
   "source": [
    "python mmaction2/demo/webcam_demo_spatiotemporal_det.py \\\n",
    "    --input-video 0 \\\n",
    "    --config configs/detection/slowonly/slowonly_kinetics400-pretrained-r101_8xb16-8x8x1-20e_ava21-rgb.py \\\n",
    "    --checkpoint https://download.openmmlab.com/mmaction/detection/ava/slowonly_omnisource_pretrained_r101_8x8x1_20e_ava_rgb/slowonly_omnisource_pretrained_r101_8x8x1_20e_ava_rgb_20201217-16378594.pth \\\n",
    "    --det-config demo/demo_configs/faster-rcnn_r50_fpn_2x_coco_infer.py \\\n",
    "    --det-checkpoint http://download.openmmlab.com/mmdetection/v2.0/faster_rcnn/faster_rcnn_r50_fpn_2x_coco/faster_rcnn_r50_fpn_2x_coco_bbox_mAP-0.384_20200504_210434-a5d8aa15.pth \\\n",
    "    --det-score-thr 0.9 \\\n",
    "    --action-score-thr 0.5 \\\n",
    "    --label-map tools/data/ava/label_map.txt \\\n",
    "    --predict-stepsize 40 \\\n",
    "    --output-fps 20 \\\n",
    "    --show"
   ]
  },
  {
   "cell_type": "code",
   "execution_count": null,
   "id": "b2ab8a5f-e9c9-4c7e-b7d1-ea36698ce5cb",
   "metadata": {},
   "outputs": [],
   "source": [
    "import os\n",
    "\n",
    "FFMPEG_BINARY = os.getenv('FFMPEG_BINARY', 'ffmpeg-imageio')\n",
    "IMAGEMAGICK_BINARY = os.getenv('FFMPEG_BINARY', 'auto-detect')"
   ]
  },
  {
   "cell_type": "code",
   "execution_count": null,
   "id": "27e2fc02-e32a-445a-864d-fe79881adb76",
   "metadata": {},
   "outputs": [],
   "source": [
    "print( cf.get_setting(\"FFMPEG_BINARY\") )  # prints the current setting"
   ]
  },
  {
   "cell_type": "code",
   "execution_count": null,
   "id": "ead459b1-f3ea-417a-96f7-7a42eb2e6d94",
   "metadata": {},
   "outputs": [],
   "source": [
    "import moviepy.config as cf"
   ]
  },
  {
   "cell_type": "code",
   "execution_count": null,
   "id": "b26b69d3-0868-46b2-934e-80ca7703a5a1",
   "metadata": {},
   "outputs": [],
   "source": [
    "!export FFMPEG_BINARY=\"/home/ciis-compnew/miniconda3/envs/action/lib/python3.8/site-packages/ffmpeg\""
   ]
  },
  {
   "cell_type": "code",
   "execution_count": null,
   "id": "bef7b351-69cd-4b75-aefa-079c9fc699ba",
   "metadata": {},
   "outputs": [],
   "source": [
    "print( cf.get_setting(\"FFMPEG_BINARY\") )  # prints the current setting"
   ]
  },
  {
   "cell_type": "code",
   "execution_count": null,
   "id": "015b27d5-20da-428e-ac5d-64661d355cf9",
   "metadata": {},
   "outputs": [],
   "source": []
  }
 ],
 "metadata": {
  "kernelspec": {
   "display_name": "Python 3 (ipykernel)",
   "language": "python",
   "name": "python3"
  },
  "language_info": {
   "codemirror_mode": {
    "name": "ipython",
    "version": 3
   },
   "file_extension": ".py",
   "mimetype": "text/x-python",
   "name": "python",
   "nbconvert_exporter": "python",
   "pygments_lexer": "ipython3",
   "version": "3.8.18"
  }
 },
 "nbformat": 4,
 "nbformat_minor": 5
}
