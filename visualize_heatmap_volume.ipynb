{
 "cells": [
  {
   "cell_type": "code",
   "execution_count": 1,
   "id": "speaking-algebra",
   "metadata": {},
   "outputs": [],
   "source": [
    "import os\n",
    "import cv2\n",
    "import os.path as osp\n",
    "import decord\n",
    "import copy as cp\n",
    "import numpy as np\n",
    "# import matplotlib.pyplot as plt\n",
    "import urllib\n",
    "import moviepy.editor as mpy\n",
    "# import random as rd\n",
    "\n",
    "# from mmpose.apis import vis_pose_result\n",
    "# from mmpose.models import TopDown\n",
    "# from mmpose.models.pose_estimators import TopdownPoseEstimator as TopDown\n",
    "\n",
    "from mmengine import load #, dump\n",
    "\n",
    "from mmaction.datasets import (CenterCrop,\n",
    "                               GeneratePoseTarget,\n",
    "                               PoseCompact, PoseDecode,\n",
    "                               Resize)\n",
    "\n",
    "# We assume the annotation is already prepared\n",
    "gym_ann_file = '../data/gym/gym_hrnet.pkl'  # https://download.openmmlab.com/mmaction/pyskl/data/gym/gym_hrnet.pkl\n",
    "ntu60_ann_file = '../data/nturgbd/ntu60_hrnet.pkl'  # https://download.openmmlab.com/mmaction/pyskl/data/nturgbd/ntu60_hrnet.pkl"
   ]
  },
  {
   "cell_type": "code",
   "execution_count": 2,
   "id": "alive-consolidation",
   "metadata": {},
   "outputs": [],
   "source": [
    "FONTFACE = cv2.FONT_HERSHEY_DUPLEX\n",
    "FONTSCALE = 0.6\n",
    "FONTCOLOR = (255, 255, 255)\n",
    "BGBLUE = (0, 119, 182)\n",
    "THICKNESS = 1\n",
    "LINETYPE = 1"
   ]
  },
  {
   "cell_type": "code",
   "execution_count": 3,
   "id": "ranging-conjunction",
   "metadata": {},
   "outputs": [],
   "source": [
    "def add_label(frame, label, BGCOLOR=BGBLUE):\n",
    "    threshold = 30\n",
    "    def split_label(label):\n",
    "        label = label.split()\n",
    "        lines, cline = [], ''\n",
    "        for word in label:\n",
    "            if len(cline) + len(word) < threshold:\n",
    "                cline = cline + ' ' + word\n",
    "            else:\n",
    "                lines.append(cline)\n",
    "                cline = word\n",
    "        if cline != '':\n",
    "            lines += [cline]\n",
    "        return lines\n",
    "    \n",
    "    if len(label) > 30:\n",
    "        label = split_label(label)\n",
    "    else:\n",
    "        label = [label]\n",
    "    label = ['Action: '] + label\n",
    "    \n",
    "    sizes = []\n",
    "    for line in label:\n",
    "        sizes.append(cv2.getTextSize(line, FONTFACE, FONTSCALE, THICKNESS)[0])\n",
    "    box_width = max([x[0] for x in sizes]) + 10\n",
    "    text_height = sizes[0][1]\n",
    "    box_height = len(sizes) * (text_height + 6)\n",
    "    \n",
    "    cv2.rectangle(frame, (0, 0), (box_width, box_height), BGCOLOR, -1)\n",
    "    for i, line in enumerate(label):\n",
    "        location = (5, (text_height + 6) * i + text_height + 3)\n",
    "        cv2.putText(frame, line, location, FONTFACE, FONTSCALE, FONTCOLOR, THICKNESS, LINETYPE)\n",
    "    return frame\n",
    "    \n",
    "\n",
    "# def vis_skeleton(vid_path, anno, category_name=None, ratio=0.5):\n",
    "#     vid = decord.VideoReader(vid_path)\n",
    "#     frames = [x.asnumpy() for x in vid]\n",
    "    \n",
    "#     h, w, _ = frames[0].shape\n",
    "#     new_shape = (int(w * ratio), int(h * ratio))\n",
    "#     frames = [cv2.resize(f, new_shape) for f in frames]\n",
    "    \n",
    "#     assert len(frames) == anno['total_frames']\n",
    "#     # The shape is N x T x K x 3\n",
    "#     kps = np.concatenate([anno['keypoint'], anno['keypoint_score'][..., None]], axis=-1)\n",
    "#     kps[..., :2] *= ratio\n",
    "#     # Convert to T x N x K x 3\n",
    "#     kps = kps.transpose([1, 0, 2, 3])\n",
    "#     vis_frames = []\n",
    "\n",
    "#     # we need an instance of TopDown model, so build a minimal one\n",
    "#     model = TopDown(backbone=dict(type='ShuffleNetV1'))\n",
    "\n",
    "#     for f, kp in zip(frames, kps):\n",
    "#         bbox = np.zeros([0, 4], dtype=np.float32)\n",
    "#         result = [dict(bbox=bbox, keypoints=k) for k in kp]\n",
    "#         vis_frame = vis_pose_result(model, f, result)\n",
    "        \n",
    "#         if category_name is not None:\n",
    "#             vis_frame = add_label(vis_frame, category_name)\n",
    "        \n",
    "#         vis_frames.append(vis_frame)\n",
    "#     return vis_frames"
   ]
  },
  {
   "cell_type": "code",
   "execution_count": 4,
   "id": "applied-humanity",
   "metadata": {},
   "outputs": [],
   "source": [
    "keypoint_pipeline = [\n",
    "    dict(type=PoseDecode),\n",
    "    dict(type=PoseCompact, hw_ratio=1., allow_imgpad=True),\n",
    "    dict(type=Resize, scale=(-1, 64)),\n",
    "    dict(type=CenterCrop, crop_size=64),\n",
    "    dict(type=GeneratePoseTarget, sigma=0.6, use_score=True, with_kp=True, with_limb=False)\n",
    "]\n",
    "\n",
    "limb_pipeline = [\n",
    "    dict(type=PoseDecode),\n",
    "    dict(type=PoseCompact, hw_ratio=1., allow_imgpad=True),\n",
    "    dict(type=Resize, scale=(-1, 64)),\n",
    "    dict(type=CenterCrop, crop_size=64),\n",
    "    dict(type=GeneratePoseTarget, sigma=0.6, use_score=True, with_kp=False, with_limb=True)\n",
    "]\n",
    "\n",
    "from mmengine.dataset import Compose\n",
    "def get_pseudo_heatmap(anno, flag='keypoint'):\n",
    "    assert flag in ['keypoint', 'limb']\n",
    "    pipeline = Compose(keypoint_pipeline if flag == 'keypoint' else limb_pipeline)\n",
    "    return pipeline(anno)['imgs']\n",
    "\n",
    "def vis_heatmaps(heatmaps, channel=-1, ratio=8):\n",
    "    import matplotlib.cm as cm\n",
    "    \n",
    "    if ( 0 <= channel <= heatmaps.shape[1]-1 ):\n",
    "        heatmaps = [heatmaps[x][channel] for x in range(heatmaps.shape[0])]\n",
    "    else:  # draw all keypoints / limbs on the same map\n",
    "        heatmaps = [np.max(x, axis=0) for x in heatmaps]\n",
    "    \n",
    "    h, w = heatmaps[0].shape    \n",
    "    newh, neww = int(h * ratio), int(w * ratio)\n",
    "    \n",
    "    cmap = cm.viridis\n",
    "    heatmaps = [(cmap(x)[..., :3] * 255).astype(np.uint8) for x in heatmaps]\n",
    "\n",
    "    heatmaps = [cv2.resize(x, (neww, newh)) for x in heatmaps]\n",
    "    return heatmaps"
   ]
  },
  {
   "cell_type": "markdown",
   "id": "0493fa82-873a-4fec-8acc-85e96fb14a5f",
   "metadata": {},
   "source": [
    "## GYM"
   ]
  },
  {
   "cell_type": "code",
   "execution_count": null,
   "id": "automatic-commons",
   "metadata": {},
   "outputs": [],
   "source": [
    "# Load GYM annotations\n",
    "lines = list(urllib.request.urlopen('https://sdolivia.github.io/FineGym/resources/dataset/gym99_categories.txt'))\n",
    "gym_categories = [x.decode().strip().split('; ')[-1] for x in lines]\n",
    "gym_annos = load(gym_ann_file)['annotations']"
   ]
  },
  {
   "cell_type": "code",
   "execution_count": null,
   "id": "numerous-bristol",
   "metadata": {},
   "outputs": [],
   "source": [
    "# download sample videos of GYM\n",
    "!wget https://download.openmmlab.com/mmaction/posec3d/gym_samples.tar\n",
    "!tar -xf gym_samples.tar\n",
    "!rm gym_samples.tar"
   ]
  },
  {
   "cell_type": "code",
   "execution_count": null,
   "id": "ranging-harrison",
   "metadata": {},
   "outputs": [],
   "source": [
    "gym_root = 'gym_samples/'\n",
    "gym_vids = os.listdir(gym_root)\n",
    "# visualize pose of which video? index in 0 - 50.\n",
    "idx = 1\n",
    "vid = gym_vids[idx]\n",
    "\n",
    "frame_dir = vid.split('.')[0]\n",
    "vid_path = osp.join(gym_root, vid)\n",
    "anno = [x for x in gym_annos if x['frame_dir'] == frame_dir][0]"
   ]
  },
  {
   "cell_type": "code",
   "execution_count": null,
   "id": "79899ee9-216f-479e-9743-e3893dc0d94e",
   "metadata": {},
   "outputs": [],
   "source": [
    "vid_path"
   ]
  },
  {
   "cell_type": "code",
   "execution_count": null,
   "id": "fitting-courage",
   "metadata": {},
   "outputs": [],
   "source": [
    "# Visualize Skeleton\n",
    "# vis_frames = vis_skeleton(vid_path, anno, gym_categories[anno['label']])\n",
    "# vid = mpy.ImageSequenceClip(vis_frames, fps=24)\n",
    "# vid.ipython_display()"
   ]
  },
  {
   "cell_type": "code",
   "execution_count": null,
   "id": "orange-logging",
   "metadata": {},
   "outputs": [],
   "source": [
    "keypoint_heatmap = get_pseudo_heatmap(anno)\n",
    "keypoint_mapvis = vis_heatmaps(keypoint_heatmap)\n",
    "keypoint_mapvis = [add_label(f, gym_categories[anno['label']]) for f in keypoint_mapvis]\n",
    "vid = mpy.ImageSequenceClip(keypoint_mapvis, fps=24)\n",
    "vid.ipython_display()"
   ]
  },
  {
   "cell_type": "code",
   "execution_count": null,
   "id": "residential-conjunction",
   "metadata": {},
   "outputs": [],
   "source": [
    "limb_heatmap = get_pseudo_heatmap(anno, 'limb')\n",
    "limb_mapvis = vis_heatmaps(limb_heatmap)\n",
    "limb_mapvis = [add_label(f, gym_categories[anno['label']]) for f in limb_mapvis]\n",
    "vid = mpy.ImageSequenceClip(limb_mapvis, fps=24)\n",
    "vid.ipython_display()"
   ]
  },
  {
   "cell_type": "markdown",
   "id": "20e2c030-8d27-428d-a333-6b5fe36f7a5f",
   "metadata": {},
   "source": [
    "## NTU60"
   ]
  },
  {
   "cell_type": "code",
   "execution_count": null,
   "id": "coupled-stranger",
   "metadata": {},
   "outputs": [],
   "source": [
    "# The name list of \n",
    "ntu_categories = ['drink water', 'eat meal/snack', 'brushing teeth', 'brushing hair', 'drop', 'pickup', \n",
    "                  'throw', 'sitting down', 'standing up (from sitting position)', 'clapping', 'reading', \n",
    "                  'writing', 'tear up paper', 'wear jacket', 'take off jacket', 'wear a shoe', \n",
    "                  'take off a shoe', 'wear on glasses', 'take off glasses', 'put on a hat/cap', \n",
    "                  'take off a hat/cap', 'cheer up', 'hand waving', 'kicking something', \n",
    "                  'reach into pocket', 'hopping (one foot jumping)', 'jump up', \n",
    "                  'make a phone call/answer phone', 'playing with phone/tablet', 'typing on a keyboard', \n",
    "                  'pointing to something with finger', 'taking a selfie', 'check time (from watch)', \n",
    "                  'rub two hands together', 'nod head/bow', 'shake head', 'wipe face', 'salute', \n",
    "                  'put the palms together', 'cross hands in front (say stop)', 'sneeze/cough', \n",
    "                  'staggering', 'falling', 'touch head (headache)', 'touch chest (stomachache/heart pain)', \n",
    "                  'touch back (backache)', 'touch neck (neckache)', 'nausea or vomiting condition', \n",
    "                  'use a fan (with hand or paper)/feeling warm', 'punching/slapping other person', \n",
    "                  'kicking other person', 'pushing other person', 'pat on back of other person', \n",
    "                  'point finger at the other person', 'hugging other person', \n",
    "                  'giving something to other person', \"touch other person's pocket\", 'handshaking', \n",
    "                  'walking towards each other', 'walking apart from each other']\n",
    "ntu_annos = load(ntu60_ann_file)"
   ]
  },
  {
   "cell_type": "code",
   "execution_count": null,
   "id": "448fbfbf-94cc-46c5-8536-e083436c0046",
   "metadata": {
    "scrolled": true
   },
   "outputs": [],
   "source": [
    "ntu_annos"
   ]
  },
  {
   "cell_type": "code",
   "execution_count": null,
   "id": "seasonal-palmer",
   "metadata": {},
   "outputs": [],
   "source": [
    "# download sample videos of NTU-60\n",
    "# !wget https://download.openmmlab.com/mmaction/posec3d/ntu_samples.tar\n",
    "!tar -xf ntu_samples.tar\n",
    "!rm ntu_samples.tar"
   ]
  },
  {
   "cell_type": "code",
   "execution_count": null,
   "id": "critical-review",
   "metadata": {},
   "outputs": [],
   "source": [
    "ntu_root = 'ntu_samples/'\n",
    "ntu_vids = os.listdir(ntu_root)\n",
    "# visualize pose of which video? index in 0 - 50.\n",
    "idx = 20\n",
    "vid = ntu_vids[idx]\n",
    "\n",
    "frame_dir = vid.split('.')[0]\n",
    "vid_path = osp.join(ntu_root, vid)\n",
    "anno = [x for x in ntu_annos if x['frame_dir'] == frame_dir.split('_')[0]][0]"
   ]
  },
  {
   "cell_type": "code",
   "execution_count": null,
   "id": "6c136283-4924-4e09-b630-43d6d2b41d5e",
   "metadata": {},
   "outputs": [],
   "source": [
    "anno"
   ]
  },
  {
   "cell_type": "code",
   "execution_count": null,
   "id": "7ef42063-b38e-46e3-94f5-28a8e7e5be3c",
   "metadata": {},
   "outputs": [],
   "source": [
    "vid_path"
   ]
  },
  {
   "cell_type": "code",
   "execution_count": null,
   "id": "accompanied-invitation",
   "metadata": {},
   "outputs": [],
   "source": [
    "# vis_frames = vis_skeleton(vid_path, anno, ntu_categories[anno['label']])\n",
    "# vid = mpy.ImageSequenceClip(vis_frames, fps=24)\n",
    "# vid.ipython_display()"
   ]
  },
  {
   "cell_type": "code",
   "execution_count": null,
   "id": "respiratory-conclusion",
   "metadata": {},
   "outputs": [],
   "source": [
    "keypoint_heatmap = get_pseudo_heatmap(anno)\n",
    "keypoint_mapvis = vis_heatmaps(keypoint_heatmap)\n",
    "keypoint_mapvis = [add_label(f, gym_categories[anno['label']]) for f in keypoint_mapvis]\n",
    "vid = mpy.ImageSequenceClip(keypoint_mapvis, fps=24)\n",
    "vid.ipython_display()"
   ]
  },
  {
   "cell_type": "code",
   "execution_count": null,
   "id": "thirty-vancouver",
   "metadata": {},
   "outputs": [],
   "source": [
    "limb_heatmap = get_pseudo_heatmap(anno, 'limb')\n",
    "limb_mapvis = vis_heatmaps(limb_heatmap)\n",
    "limb_mapvis = [add_label(f, gym_categories[anno['label']]) for f in limb_mapvis]\n",
    "vid = mpy.ImageSequenceClip(limb_mapvis, fps=24)\n",
    "vid.ipython_display()"
   ]
  },
  {
   "cell_type": "markdown",
   "id": "ca84b7de-d525-4681-bacc-336d43af45a3",
   "metadata": {},
   "source": [
    "# NTU60_2D_Single_Person"
   ]
  },
  {
   "cell_type": "code",
   "execution_count": null,
   "id": "4a074707-1855-4c0c-be3a-3ac949f331cb",
   "metadata": {},
   "outputs": [],
   "source": [
    "ntu60_2d_ann_file = 'mmaction2/tools/data/skeleton/S001C001P001R001A001_rgb.pkl'"
   ]
  },
  {
   "cell_type": "code",
   "execution_count": null,
   "id": "3db8935b-3d4d-4dfe-99a0-6f0b51ffb79d",
   "metadata": {},
   "outputs": [],
   "source": [
    "ntu_categories = ['drink water', 'eat meal/snack', 'brushing teeth', 'brushing hair', 'drop', 'pickup', \n",
    "                  'throw', 'sitting down', 'standing up (from sitting position)', 'clapping', 'reading', \n",
    "                  'writing', 'tear up paper', 'wear jacket', 'take off jacket', 'wear a shoe', \n",
    "                  'take off a shoe', 'wear on glasses', 'take off glasses', 'put on a hat/cap', \n",
    "                  'take off a hat/cap', 'cheer up', 'hand waving', 'kicking something', \n",
    "                  'reach into pocket', 'hopping (one foot jumping)', 'jump up', \n",
    "                  'make a phone call/answer phone', 'playing with phone/tablet', 'typing on a keyboard', \n",
    "                  'pointing to something with finger', 'taking a selfie', 'check time (from watch)', \n",
    "                  'rub two hands together', 'nod head/bow', 'shake head', 'wipe face', 'salute', \n",
    "                  'put the palms together', 'cross hands in front (say stop)', 'sneeze/cough', \n",
    "                  'staggering', 'falling', 'touch head (headache)', 'touch chest (stomachache/heart pain)', \n",
    "                  'touch back (backache)', 'touch neck (neckache)', 'nausea or vomiting condition', \n",
    "                  'use a fan (with hand or paper)/feeling warm', 'punching/slapping other person', \n",
    "                  'kicking other person', 'pushing other person', 'pat on back of other person', \n",
    "                  'point finger at the other person', 'hugging other person', \n",
    "                  'giving something to other person', \"touch other person's pocket\", 'handshaking', \n",
    "                  'walking towards each other', 'walking apart from each other']\n",
    "# ntu2d_annos = load(ntu60_2d_ann_file)['annotations']"
   ]
  },
  {
   "cell_type": "code",
   "execution_count": null,
   "id": "1428c2f2-00a4-4ef2-9f4b-ce07a0967984",
   "metadata": {},
   "outputs": [],
   "source": [
    "ntu2d_root = 'mmaction2/tools/data/skeleton/'\n",
    "vid = 'S001C001P001R001A001_rgb.avi'\n",
    "\n",
    "# frame_dir = vid.split('.')[0]\n",
    "vid_path = osp.join(ntu2d_root, vid)\n",
    "# anno = [x for x in ntu2d_annos if x['frame_dir'] == frame_dir.split('_')[0]][0]\n",
    "anno = load(ntu60_2d_ann_file)"
   ]
  },
  {
   "cell_type": "code",
   "execution_count": null,
   "id": "823a78c5-1ae5-44d3-9bd6-5695cd06bf48",
   "metadata": {},
   "outputs": [],
   "source": [
    "anno"
   ]
  },
  {
   "cell_type": "code",
   "execution_count": null,
   "id": "6b514b7a-37c3-4460-a68e-02719ece30fd",
   "metadata": {},
   "outputs": [],
   "source": [
    "keypoint_heatmap = get_pseudo_heatmap(anno)\n",
    "keypoint_mapvis = vis_heatmaps(keypoint_heatmap, channel=-1)\n",
    "keypoint_mapvis = [add_label(f, ntu_categories[anno['label']]) for f in keypoint_mapvis]\n",
    "vid = mpy.ImageSequenceClip(keypoint_mapvis, fps=24)\n",
    "\n",
    "# CHECK ndarray.shape, RESTART KERNEL if ERROR!\n",
    "print(keypoint_heatmap.shape)  # frames X kpts X width X heighs\n",
    "\n",
    "vid.write_videofile(\"S001C001P001R001A001_rgb_heatmap.mp4\", remove_temp=True)\n",
    "vid.ipython_display()"
   ]
  },
  {
   "cell_type": "code",
   "execution_count": null,
   "id": "5788f5eb-6cca-40b0-8d8f-3de0806354d8",
   "metadata": {},
   "outputs": [],
   "source": [
    "limb_heatmap = get_pseudo_heatmap(anno, 'limb')\n",
    "limb_mapvis = vis_heatmaps(limb_heatmap)\n",
    "limb_mapvis = [add_label(f, ntu_categories[anno['label']]) for f in limb_mapvis]\n",
    "vid = mpy.ImageSequenceClip(limb_mapvis, fps=24)\n",
    "\n",
    "# CHECK ndarray.shape, RESTART KERNEL if ERROR!\n",
    "print(limb_heatmap.shape[0])  # frames X kpts X width X heighs\n",
    "\n",
    "vid.ipython_display()"
   ]
  },
  {
   "cell_type": "markdown",
   "id": "cf26ec3c-f82b-4861-b8b6-242524e8f30f",
   "metadata": {},
   "source": [
    "# NTU60_2D_Multi_Persons"
   ]
  },
  {
   "cell_type": "code",
   "execution_count": 11,
   "id": "01f61fc3-526a-4c50-8a2d-fbad12af5ac0",
   "metadata": {},
   "outputs": [],
   "source": [
    "ntu60_2d_ann_file = 'mmaction2/tools/data/skeleton/S013C002P018R001A060_rgb.pkl'"
   ]
  },
  {
   "cell_type": "code",
   "execution_count": 12,
   "id": "ac5f7b9f-c1ea-4810-90a9-1f2be6560946",
   "metadata": {},
   "outputs": [],
   "source": [
    "ntu_categories = ['drink water', 'eat meal/snack', 'brushing teeth', 'brushing hair', 'drop', 'pickup', \n",
    "                  'throw', 'sitting down', 'standing up (from sitting position)', 'clapping', 'reading', \n",
    "                  'writing', 'tear up paper', 'wear jacket', 'take off jacket', 'wear a shoe', \n",
    "                  'take off a shoe', 'wear on glasses', 'take off glasses', 'put on a hat/cap', \n",
    "                  'take off a hat/cap', 'cheer up', 'hand waving', 'kicking something', \n",
    "                  'reach into pocket', 'hopping (one foot jumping)', 'jump up', \n",
    "                  'make a phone call/answer phone', 'playing with phone/tablet', 'typing on a keyboard', \n",
    "                  'pointing to something with finger', 'taking a selfie', 'check time (from watch)', \n",
    "                  'rub two hands together', 'nod head/bow', 'shake head', 'wipe face', 'salute', \n",
    "                  'put the palms together', 'cross hands in front (say stop)', 'sneeze/cough', \n",
    "                  'staggering', 'falling', 'touch head (headache)', 'touch chest (stomachache/heart pain)', \n",
    "                  'touch back (backache)', 'touch neck (neckache)', 'nausea or vomiting condition', \n",
    "                  'use a fan (with hand or paper)/feeling warm', 'punching/slapping other person', \n",
    "                  'kicking other person', 'pushing other person', 'pat on back of other person', \n",
    "                  'point finger at the other person', 'hugging other person', \n",
    "                  'giving something to other person', \"touch other person's pocket\", 'handshaking', \n",
    "                  'walking towards each other', 'walking apart from each other']\n",
    "# ntu2d_annos = load(ntu60_2d_ann_file)['annotations']"
   ]
  },
  {
   "cell_type": "code",
   "execution_count": 13,
   "id": "8bea25ea-cdd1-4f52-9b55-8c473012b31d",
   "metadata": {},
   "outputs": [],
   "source": [
    "ntu2d_root = '../cut'\n",
    "vid = 'DJI_0013_12r_10s_2.mp4'\n",
    "out_filename = 'data/DJI_0013_12r_10s_2_heatmap_17.MP4'\n",
    "\n",
    "# frame_dir = vid.split('.')[0]\n",
    "vid_path = osp.join(ntu2d_root, vid)\n",
    "# anno = [x for x in ntu2d_annos if x['frame_dir'] == frame_dir.split('_')[0]][0]\n",
    "anno = load(ntu60_2d_ann_file)"
   ]
  },
  {
   "cell_type": "code",
   "execution_count": 14,
   "id": "c5b6d8d3-750a-4e37-b1c2-c71264908141",
   "metadata": {},
   "outputs": [
    {
     "data": {
      "text/plain": [
       "{'keypoint': array([[[[ 951.2249 ,  485.7825 ],\n",
       "          [ 956.33905,  475.55432],\n",
       "          [ 956.33905,  475.55432],\n",
       "          ...,\n",
       "          [1022.8223 ,  807.9707 ],\n",
       "          [1002.3659 ,  925.595  ],\n",
       "          [1022.8223 ,  910.2527 ]],\n",
       " \n",
       "         [[ 952.6565 ,  484.7136 ],\n",
       "          [ 957.73206,  474.56238],\n",
       "          [ 957.73206,  474.56238],\n",
       "          ...,\n",
       "          [1023.71497,  809.5525 ],\n",
       "          [1003.41254,  926.29144],\n",
       "          [1023.71497,  905.989  ]],\n",
       " \n",
       "         [[1266.9379 ,  517.53906],\n",
       "          [1266.9379 ,  501.19785],\n",
       "          [1256.0437 ,  501.19785],\n",
       "          ...,\n",
       "          [1168.8907 ,  860.7041 ],\n",
       "          [1185.2319 ,  953.3042 ],\n",
       "          [1152.5496 ,  964.1983 ]],\n",
       " \n",
       "         ...,\n",
       " \n",
       "         [[ 499.17184,  439.9678 ],\n",
       "          [ 506.92767,  432.21198],\n",
       "          [ 503.04974,  432.21198],\n",
       "          ...,\n",
       "          [ 596.1197 ,  684.2764 ],\n",
       "          [ 506.92767,  761.8347 ],\n",
       "          [ 623.2651 ,  773.46844]],\n",
       " \n",
       "         [[ 491.0838 ,  439.15247],\n",
       "          [ 498.8514 ,  431.38486],\n",
       "          [ 494.9676 ,  431.38486],\n",
       "          ...,\n",
       "          [ 592.06287,  687.7163 ],\n",
       "          [ 502.73523,  761.50867],\n",
       "          [ 623.1333 ,  773.1601 ]],\n",
       " \n",
       "         [[ 485.2077 ,  437.82346],\n",
       "          [ 492.99182,  430.0393 ],\n",
       "          [ 489.09976,  430.0393 ],\n",
       "          ...,\n",
       "          [ 586.4015 ,  686.91583],\n",
       "          [ 500.77597,  760.8652 ],\n",
       "          [ 621.4301 ,  772.5414 ]]],\n",
       " \n",
       " \n",
       "        [[[1265.7063 ,  517.3323 ],\n",
       "          [1265.7063 ,  500.93292],\n",
       "          [1254.7734 ,  500.93292],\n",
       "          ...,\n",
       "          [1167.31   ,  861.7192 ],\n",
       "          [1183.7095 ,  954.649  ],\n",
       "          [1150.9106 ,  960.1155 ]],\n",
       " \n",
       "         [[1265.7949 ,  513.17737],\n",
       "          [1265.7949 ,  502.2716 ],\n",
       "          [1254.889  ,  502.2716 ],\n",
       "          ...,\n",
       "          [1167.643  ,  862.1621 ],\n",
       "          [1184.0016 ,  954.8612 ],\n",
       "          [1151.2843 ,  960.3141 ]],\n",
       " \n",
       "         [[ 953.2937 ,  484.0577 ],\n",
       "          [ 958.3817 ,  473.8816 ],\n",
       "          [ 958.3817 ,  473.8816 ],\n",
       "          ...,\n",
       "          [1019.43835,  809.69293],\n",
       "          [1004.1742 ,  926.7181 ],\n",
       "          [1024.5264 ,  906.3659 ]],\n",
       " \n",
       "         ...,\n",
       " \n",
       "         [[1921.977  ,  667.43677],\n",
       "          [1916.8799 ,  657.2425 ],\n",
       "          [1921.977  ,  652.1453 ],\n",
       "          ...,\n",
       "          [1881.1998 , 1105.7914 ],\n",
       "          [1896.4913 , 1049.7228 ],\n",
       "          [1896.4913 , 1049.7228 ]],\n",
       " \n",
       "         [[1923.3677 ,  665.16437],\n",
       "          [1867.6403 ,  624.6354 ],\n",
       "          [1918.3015 ,  644.89984],\n",
       "          ...,\n",
       "          [1877.7726 , 1105.9169 ],\n",
       "          [1898.037  , 1050.1896 ],\n",
       "          [1898.037  , 1050.1896 ]],\n",
       " \n",
       "         [[1920.688  ,  665.745  ],\n",
       "          [1870.0944 ,  625.2701 ],\n",
       "          [1920.688  ,  645.50757],\n",
       "          ...,\n",
       "          [1920.688  ,  599.9733 ],\n",
       "          [1900.4506 , 1050.2563 ],\n",
       "          [1900.4506 , 1050.2563 ]]]], dtype=float32),\n",
       " 'keypoint_score': array([[[0.9217022 , 0.9223999 , 0.8599285 , ..., 0.80309784,\n",
       "          0.8978238 , 0.8769472 ],\n",
       "         [0.9466864 , 0.9467143 , 0.86909056, ..., 0.85796845,\n",
       "          0.85860944, 0.8934407 ],\n",
       "         [0.9394094 , 0.9177146 , 0.96597254, ..., 0.90842366,\n",
       "          0.94315827, 0.92643815],\n",
       "         ...,\n",
       "         [0.9519899 , 0.9787283 , 0.89671946, ..., 0.87291986,\n",
       "          0.90673554, 0.9048133 ],\n",
       "         [0.9544286 , 0.9828635 , 0.9111193 , ..., 0.8492321 ,\n",
       "          0.90109336, 0.9060067 ],\n",
       "         [0.940282  , 0.9510584 , 0.89290094, ..., 0.8663182 ,\n",
       "          0.9056958 , 0.9061745 ]],\n",
       " \n",
       "        [[0.92211366, 0.91580915, 0.951154  , ..., 0.92155373,\n",
       "          0.9368353 , 0.9067988 ],\n",
       "         [0.9604523 , 0.9304916 , 0.9927739 , ..., 0.9138365 ,\n",
       "          0.9307803 , 0.90505123],\n",
       "         [0.94455886, 0.9486188 , 0.8663964 , ..., 0.8535249 ,\n",
       "          0.85543656, 0.8910605 ],\n",
       "         ...,\n",
       "         [0.30985647, 0.20518261, 0.4051437 , ..., 0.04882036,\n",
       "          0.1641569 , 0.15395516],\n",
       "         [0.28357175, 0.20118277, 0.38513422, ..., 0.04607341,\n",
       "          0.15642934, 0.15949893],\n",
       "         [0.216578  , 0.21138012, 0.32036918, ..., 0.05978961,\n",
       "          0.17307004, 0.19733645]]], dtype=float32),\n",
       " 'frame_dir': 'S013C002P018R001A060_rgb',\n",
       " 'img_shape': (1080, 1920),\n",
       " 'original_shape': (1080, 1920),\n",
       " 'total_frames': 91,\n",
       " 'label': 59}"
      ]
     },
     "execution_count": 14,
     "metadata": {},
     "output_type": "execute_result"
    }
   ],
   "source": [
    "anno"
   ]
  },
  {
   "cell_type": "code",
   "execution_count": null,
   "id": "8c7e07f2-c6ac-439d-ae83-f13e26cfbb13",
   "metadata": {},
   "outputs": [],
   "source": [
    "with open('S013C002P018R001A060_rgb.txt','w') as data:  \n",
    "      data.write(str(anno))"
   ]
  },
  {
   "cell_type": "code",
   "execution_count": null,
   "id": "5e112311-703b-466b-903d-a908ff12a41d",
   "metadata": {},
   "outputs": [],
   "source": [
    "keypoint_heatmap = get_pseudo_heatmap(anno)\n",
    "keypoint_mapvis = vis_heatmaps(keypoint_heatmap, channel=16)\n",
    "# keypoint_mapvis = [add_label(f, ntu_categories[anno['label']]) for f in keypoint_mapvis]\n",
    "vid = mpy.ImageSequenceClip(keypoint_mapvis, fps=12)\n",
    "\n",
    "# CHECK ndarray.shape, RESTART KERNEL if ERROR!\n",
    "print(keypoint_heatmap.shape)  # frames X kpts X width X heighs\n",
    "\n",
    "vid.write_videofile(out_filename, remove_temp=True)\n",
    "# vid.ipython_display()"
   ]
  },
  {
   "cell_type": "markdown",
   "id": "0cb49dfc-6be0-4971-99eb-863c212adf11",
   "metadata": {},
   "source": [
    "# CIIS"
   ]
  },
  {
   "cell_type": "code",
   "execution_count": 5,
   "id": "b3a2065b-a5d4-4266-a1f0-e4880f275d62",
   "metadata": {},
   "outputs": [],
   "source": [
    "ciis_ann_file = 'data/skeleton/ciis.pkl'"
   ]
  },
  {
   "cell_type": "code",
   "execution_count": 6,
   "id": "fb38d373-c31e-4307-aa5d-430f94b575b3",
   "metadata": {},
   "outputs": [],
   "source": [
    "ciis_categories = ['berdiri', 'berjalan', 'berjongkok', 'merayap', 'melempar', 'membidik (l. panjang)', \n",
    "                  'membidik (l. pendek)', 'memukul', 'menendang', 'menusuk']\n",
    "ciis_annos = load(ciis_ann_file)['annotations']"
   ]
  },
  {
   "cell_type": "code",
   "execution_count": 15,
   "id": "93316a0c-32cf-4cf7-8e80-6a4f8b0077ff",
   "metadata": {},
   "outputs": [],
   "source": [
    "# ciis_root = 'data/video'\n",
    "# ciis_vids = os.listdir(ciis_root)\n",
    "# visualize pose of which video? index in 0 - 50.\n",
    "# idx = 0\n",
    "# vid = ciis_vids[idx]\n",
    "\n",
    "frame_dir = 'DJI_0013_12r_10s_2_46.001_18'\n",
    "# vid_path = osp.join(ciis_root, vid)\n",
    "anno = [x for x in ciis_annos if x['frame_dir'] == frame_dir][0]"
   ]
  },
  {
   "cell_type": "code",
   "execution_count": 16,
   "id": "a3dbc3fa-e0c2-45ed-963d-80d9027d697e",
   "metadata": {},
   "outputs": [
    {
     "data": {
      "text/plain": [
       "{'frame_dir': 'DJI_0013_12r_10s_2_46.001_18',\n",
       " 'label': 7,\n",
       " 'img_shape': (720, 1280),\n",
       " 'original_shape': (720, 1280),\n",
       " 'total_frames': 4,\n",
       " 'keypoint': array([[[[247.06069946, 210.92636108],\n",
       "          [247.06069946, 199.57499695],\n",
       "          [239.49311829, 203.35877991],\n",
       "          [220.57415771, 199.57499695],\n",
       "          [209.22279358, 203.35877991],\n",
       "          [231.92553711, 229.84532166],\n",
       "          [182.73626709, 260.1156311 ],\n",
       "          [258.41207886, 282.81838989],\n",
       "          [175.16868591, 332.00765991],\n",
       "          [292.46618652, 328.22384644],\n",
       "          [216.79037476, 377.41311646],\n",
       "          [258.41207886, 347.14282227],\n",
       "          [231.92553711, 362.27798462],\n",
       "          [273.54721069, 426.60241699],\n",
       "          [262.19586182, 441.73754883],\n",
       "          [269.76342773, 494.71063232],\n",
       "          [201.6552124 , 494.71063232]],\n",
       " \n",
       "         [[261.29928589, 206.16247559],\n",
       "          [261.29928589, 198.57080078],\n",
       "          [257.50344849, 198.57080078],\n",
       "          [234.72842407, 194.77496338],\n",
       "          [227.13674927, 202.36663818],\n",
       "          [242.32009888, 228.9375    ],\n",
       "          [196.77003479, 255.50837708],\n",
       "          [272.6867981 , 282.07925415],\n",
       "          [185.38252258, 327.62930298],\n",
       "          [310.64517212, 327.62930298],\n",
       "          [234.72842407, 365.587677  ],\n",
       "          [268.89096069, 342.81265259],\n",
       "          [246.11593628, 357.9960022 ],\n",
       "          [272.6867981 , 418.72943115],\n",
       "          [291.66598511, 430.11694336],\n",
       "          [261.29928589, 479.46282959],\n",
       "          [257.50344849, 498.4420166 ]],\n",
       " \n",
       "         [[278.39810181, 205.74345398],\n",
       "          [278.39810181, 194.40988159],\n",
       "          [270.84240723, 198.18774414],\n",
       "          [251.95310974, 198.18774414],\n",
       "          [244.3973999 , 201.96560669],\n",
       "          [259.50881958, 228.41059875],\n",
       "          [214.17453003, 254.85560608],\n",
       "          [285.9538269 , 281.30059814],\n",
       "          [195.2852478 , 322.85702515],\n",
       "          [327.51025391, 322.85702515],\n",
       "          [248.17524719, 360.63562012],\n",
       "          [278.39810181, 345.52416992],\n",
       "          [259.50881958, 356.85775757],\n",
       "          [274.62023926, 421.08132935],\n",
       "          [312.39883423, 424.85919189],\n",
       "          [270.84240723, 492.86062622],\n",
       "          [312.39883423, 500.4163208 ]],\n",
       " \n",
       "         [[296.55493164, 206.25717163],\n",
       "          [296.55493164, 198.71873474],\n",
       "          [292.78570557, 202.48794556],\n",
       "          [270.17041016, 198.71873474],\n",
       "          [266.40118408, 202.48794556],\n",
       "          [277.70883179, 228.8724823 ],\n",
       "          [236.24743652, 255.25700378],\n",
       "          [300.32415771, 277.87231445],\n",
       "          [213.63212585, 323.10293579],\n",
       "          [341.78555298, 323.10293579],\n",
       "          [262.63195801, 353.25668335],\n",
       "          [292.78570557, 345.71826172],\n",
       "          [277.70883179, 357.02590942],\n",
       "          [281.47805786, 421.10263062],\n",
       "          [322.93945312, 424.87182617],\n",
       "          [266.40118408, 492.71777344],\n",
       "          [360.63165283, 496.48699951]]]]),\n",
       " 'keypoint_score': array([[[0.95289946, 0.947487  , 0.97343731, 0.47628486, 0.96887314,\n",
       "          0.88686067, 0.84565818, 0.91876197, 0.92060804, 0.94279778,\n",
       "          0.92796659, 0.78562087, 0.78472692, 0.79972237, 0.91319716,\n",
       "          0.90161383, 0.90995085],\n",
       "         [0.94971639, 0.9228996 , 0.94296288, 0.50679678, 0.98634434,\n",
       "          0.86238658, 0.84909081, 0.90868902, 0.94239902, 0.93168521,\n",
       "          0.89895815, 0.81492794, 0.76210427, 0.81280077, 0.93604571,\n",
       "          0.69369733, 0.87594688],\n",
       "         [0.96601951, 0.95273799, 0.9539845 , 0.50752163, 0.92875087,\n",
       "          0.86545783, 0.85183752, 0.91960913, 0.91902864, 0.9509359 ,\n",
       "          0.90466893, 0.75508362, 0.77057987, 0.87988269, 0.94553006,\n",
       "          0.88218617, 0.88852322],\n",
       "         [0.96394706, 0.91546416, 0.94314682, 0.5263747 , 0.94652396,\n",
       "          0.89345193, 0.8461169 , 0.92261195, 0.89798939, 0.92360389,\n",
       "          0.93381786, 0.73327112, 0.79521954, 0.87461811, 0.88532484,\n",
       "          0.93450511, 0.88589156]]])}"
      ]
     },
     "execution_count": 16,
     "metadata": {},
     "output_type": "execute_result"
    }
   ],
   "source": [
    "anno"
   ]
  },
  {
   "cell_type": "code",
   "execution_count": 18,
   "id": "9e342ea6-8a74-466e-b34d-7682d6e27ba6",
   "metadata": {},
   "outputs": [
    {
     "name": "stdout",
     "output_type": "stream",
     "text": [
      "Moviepy - Building video __temp__.mp4.\n",
      "Moviepy - Writing video __temp__.mp4\n",
      "\n"
     ]
    },
    {
     "name": "stderr",
     "output_type": "stream",
     "text": [
      "                                                                                                     "
     ]
    },
    {
     "name": "stdout",
     "output_type": "stream",
     "text": [
      "Moviepy - Done !\n",
      "Moviepy - video ready __temp__.mp4\n"
     ]
    },
    {
     "name": "stderr",
     "output_type": "stream",
     "text": [
      "\r"
     ]
    },
    {
     "data": {
      "text/html": [
       "<div align=middle><video src='data:video/mp4;base64,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' controls>Sorry, seems like your browser doesn't support HTML5 audio/video</video></div>"
      ],
      "text/plain": [
       "<moviepy.video.io.html_tools.HTML2 object>"
      ]
     },
     "execution_count": 18,
     "metadata": {},
     "output_type": "execute_result"
    }
   ],
   "source": [
    "keypoint_heatmap = get_pseudo_heatmap(anno)\n",
    "keypoint_mapvis = vis_heatmaps(keypoint_heatmap)\n",
    "keypoint_mapvis = [add_label(f, ciis_categories[anno['label']]) for f in keypoint_mapvis]\n",
    "vid = mpy.ImageSequenceClip(keypoint_mapvis, fps=24)\n",
    "vid.ipython_display()"
   ]
  },
  {
   "cell_type": "code",
   "execution_count": null,
   "id": "b673c594-4b52-4083-820a-0bba1f83aba6",
   "metadata": {
    "scrolled": true
   },
   "outputs": [],
   "source": [
    "combined_pkl"
   ]
  },
  {
   "cell_type": "markdown",
   "id": "eb3459f0-9199-4020-9907-5d6a2c0a1168",
   "metadata": {},
   "source": [
    "# ntu60_2d.pkl"
   ]
  },
  {
   "cell_type": "code",
   "execution_count": null,
   "id": "77234bfe-ace0-4b1e-91c4-10dbf0b89f14",
   "metadata": {
    "scrolled": true
   },
   "outputs": [],
   "source": [
    "load('data/skeleton/ntu60_2d.pkl')"
   ]
  },
  {
   "cell_type": "code",
   "execution_count": null,
   "id": "9ecd6d56-a453-4afb-9e37-e4ab3723c9ee",
   "metadata": {},
   "outputs": [],
   "source": []
  }
 ],
 "metadata": {
  "kernelspec": {
   "display_name": "Python 3 (ipykernel)",
   "language": "python",
   "name": "python3"
  },
  "language_info": {
   "codemirror_mode": {
    "name": "ipython",
    "version": 3
   },
   "file_extension": ".py",
   "mimetype": "text/x-python",
   "name": "python",
   "nbconvert_exporter": "python",
   "pygments_lexer": "ipython3",
   "version": "3.8.18"
  }
 },
 "nbformat": 4,
 "nbformat_minor": 5
}
