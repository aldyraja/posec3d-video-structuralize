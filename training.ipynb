{
 "cells": [
  {
   "cell_type": "markdown",
   "id": "0a83e8aa-9403-42e3-ab17-07b34e1e49fa",
   "metadata": {},
   "source": [
    "## Training via bash"
   ]
  },
  {
   "cell_type": "code",
   "execution_count": null,
   "id": "8a69f34b",
   "metadata": {},
   "outputs": [],
   "source": [
    "!python mmaction2/tools/train.py mmaction2/configs/skeleton/posec3d/ciis_not-multi.py \\\n",
    "    --work-dir \"work_dirs/ciis_not-multi\" \\\n",
    "    --seed 0 \\\n",
    "    --resume"
   ]
  },
  {
   "cell_type": "markdown",
   "id": "a6244f32-9406-4f93-b9c6-6cdc7557dccf",
   "metadata": {},
   "source": [
    "## Training with python"
   ]
  },
  {
   "cell_type": "markdown",
   "id": "a30ac701",
   "metadata": {},
   "source": [
    "To Do"
   ]
  }
 ],
 "metadata": {
  "kernelspec": {
   "display_name": "Python 3 (ipykernel)",
   "language": "python",
   "name": "python3"
  },
  "language_info": {
   "codemirror_mode": {
    "name": "ipython",
    "version": 3
   },
   "file_extension": ".py",
   "mimetype": "text/x-python",
   "name": "python",
   "nbconvert_exporter": "python",
   "pygments_lexer": "ipython3",
   "version": "3.8.18"
  }
 },
 "nbformat": 4,
 "nbformat_minor": 5
}
