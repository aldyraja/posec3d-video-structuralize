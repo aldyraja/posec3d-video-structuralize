{
 "cells": [
  {
   "cell_type": "markdown",
   "id": "9c3c78e0",
   "metadata": {},
   "source": [
    "## Base Environment Check"
   ]
  },
  {
   "cell_type": "code",
   "execution_count": null,
   "id": "28d06454",
   "metadata": {},
   "outputs": [],
   "source": [
    "# !python --version\n",
    "\n",
    "# import torch\n",
    "# torch.cuda.is_available()"
   ]
  },
  {
   "cell_type": "markdown",
   "id": "2ee55c85",
   "metadata": {},
   "source": [
    "## Environment Setup"
   ]
  },
  {
   "cell_type": "code",
   "execution_count": null,
   "id": "2b293fdc-fd70-468b-91d5-1628c59bbc1f",
   "metadata": {},
   "outputs": [],
   "source": [
    "!pip install --upgrade torch torchvision\n",
    "!pip install -U openmim"
   ]
  },
  {
   "cell_type": "code",
   "execution_count": null,
   "id": "917947fb-40a5-43e5-820a-47468ef0d59c",
   "metadata": {},
   "outputs": [],
   "source": [
    "!mim install mmengine\n",
    "!mim install mmcv\n",
    "!pip install mmpose\n",
    "!pip install mmdet"
   ]
  },
  {
   "cell_type": "code",
   "execution_count": null,
   "id": "6e37d01f-4bbc-4017-a298-da5b42662226",
   "metadata": {},
   "outputs": [],
   "source": [
    "!pip install mmaction2\n",
    "!pip show mmaction2"
   ]
  },
  {
   "cell_type": "code",
   "execution_count": null,
   "id": "eb3092af-313c-4542-95cf-3095f5605b2e",
   "metadata": {},
   "outputs": [],
   "source": [
    "!mkdir -p mmaction2/configs/_base_\n",
    "!mkdir -p mmaction2/configs/skeleton/posec3d\n",
    "!mkdir -p mmaction2/demo/demo_configs\n",
    "!mkdir -p mmaction2/tools/data/ciis\n",
    "!mkdir -p data/skeleton\n",
    "!mkdir -p \"/opt/conda/lib/python3.10/site-packages/mmaction/models/localizers/drn/drn_utils\"\n",
    "\n",
    "!rm \"/opt/conda/lib/python3.10/site-packages/mmaction/__init__.py\"\n",
    "!wget -P \"/opt/conda/lib/python3.10/site-packages/mmaction/\" https://raw.githubusercontent.com/aldyraja/posec3d-video-structuralize/cloud/mmaction2/__init__.py\n",
    "\n",
    "!rm \"/opt/conda/lib/python3.10/site-packages/mmdet/__init__.py\"\n",
    "!wget -P \"/opt/conda/lib/python3.10/site-packages/mmdet/\" https://raw.githubusercontent.com/aldyraja/posec3d-video-structuralize/cloud/mmdetection/__init__.py\n",
    "    \n",
    "!wget -P \"/opt/conda/lib/python3.10/site-packages/mmaction/models/localizers/drn/drn_utils/\" https://raw.githubusercontent.com/open-mmlab/mmaction2/main/mmaction/models/localizers/drn/drn_utils/FPN.py https://raw.githubusercontent.com/open-mmlab/mmaction2/main/mmaction/models/localizers/drn/drn_utils/__init__.py https://raw.githubusercontent.com/open-mmlab/mmaction2/main/mmaction/models/localizers/drn/drn_utils/backbone.py https://raw.githubusercontent.com/open-mmlab/mmaction2/main/mmaction/models/localizers/drn/drn_utils/fcos.py https://raw.githubusercontent.com/open-mmlab/mmaction2/main/mmaction/models/localizers/drn/drn_utils/inference.py https://raw.githubusercontent.com/open-mmlab/mmaction2/main/mmaction/models/localizers/drn/drn_utils/language_module.py https://raw.githubusercontent.com/open-mmlab/mmaction2/main/mmaction/models/localizers/drn/drn_utils/loss.py\n",
    "!wget -P \"/opt/conda/lib/python3.10/site-packages/mmaction/models/localizers/drn/\" https://raw.githubusercontent.com/open-mmlab/mmaction2/main/mmaction/models/localizers/drn/drn.py\n",
    "!wget -P mmaction2/configs/_base_/ https://raw.githubusercontent.com/aldyraja/posec3d-video-structuralize/cloud/mmaction2/configs/_base_/default_runtime.py\n",
    "!wget -P mmaction2/tools/ https://raw.githubusercontent.com/aldyraja/posec3d-video-structuralize/cloud/mmaction2/tools/train.py\n",
    "\n",
    "!wget -P mmaction2/demo/demo_configs/ https://raw.githubusercontent.com/aldyraja/posec3d-video-structuralize/cloud/mmaction2/demo/demo_configs/faster-rcnn_r50_fpn_2x_coco_infer.py\n",
    "!wget -P mmaction2/demo/demo_configs/ https://raw.githubusercontent.com/aldyraja/posec3d-video-structuralize/cloud/mmaction2/demo/demo_configs/td-hm_hrnet-w32_8xb64-210e_coco-256x192_infer.py"
   ]
  },
  {
   "cell_type": "markdown",
   "id": "085bac78",
   "metadata": {},
   "source": [
    "## Config"
   ]
  },
  {
   "cell_type": "code",
   "execution_count": null,
   "id": "c4c43c93",
   "metadata": {},
   "outputs": [],
   "source": [
    "!wget -P data/skeleton/ https://raw.githubusercontent.com/aldyraja/posec3d-video-structuralize/cloud/data/skeleton/ciis_0s7_no-berdiri.pkl\n",
    "!wget -P mmaction2/configs/skeleton/posec3d/ https://raw.githubusercontent.com/aldyraja/posec3d-video-structuralize/cloud/mmaction2/configs/skeleton/posec3d/ciis_not-multi_no-berdiri_4.py"
   ]
  },
  {
   "cell_type": "markdown",
   "id": "70e4c58f",
   "metadata": {},
   "source": [
    "### resume from ..."
   ]
  },
  {
   "cell_type": "code",
   "execution_count": null,
   "id": "c7393062",
   "metadata": {},
   "outputs": [],
   "source": [
    "# !mkdir -p work_dirs/ciis_not-multi_no-berdiri_1-2\n",
    "\n",
    "# !wget -P work_dirs/ciis_not-multi_no-berdiri_1-2/ https://raw.githubusercontent.com/aldyraja/posec3d-video-structuralize/cloud/work_dirs/ciis_not-multi_no-berdiri_1-1_best-200/epoch_310.pth\n",
    "# !wget -P work_dirs/ciis_not-multi_no-berdiri_1-2/ https://raw.githubusercontent.com/aldyraja/posec3d-video-structuralize/cloud/work_dirs/ciis_not-multi_no-berdiri_1-1_best-200/last_checkpoint"
   ]
  },
  {
   "cell_type": "markdown",
   "id": "356cd1d3",
   "metadata": {},
   "source": [
    "## Training"
   ]
  },
  {
   "cell_type": "code",
   "execution_count": null,
   "id": "e45175a3-4498-4ccb-bf1a-357dcd97b336",
   "metadata": {},
   "outputs": [],
   "source": [
    "!python mmaction2/tools/train.py mmaction2/configs/skeleton/posec3d/ciis_not-multi_no-berdiri_4.py \\\n",
    "    --work-dir \"work_dirs/ciis_not-multi_no-berdiri_4\" \\\n",
    "    --seed 0 \\\n",
    "    --resume"
   ]
  }
 ],
 "metadata": {
  "kaggle": {
   "accelerator": "gpu",
   "dataSources": [],
   "dockerImageVersionId": 30699,
   "isGpuEnabled": true,
   "isInternetEnabled": true,
   "language": "python",
   "sourceType": "notebook"
  },
  "kernelspec": {
   "display_name": "Python 3 (ipykernel)",
   "language": "python",
   "name": "python3"
  },
  "language_info": {
   "codemirror_mode": {
    "name": "ipython",
    "version": 3
   },
   "file_extension": ".py",
   "mimetype": "text/x-python",
   "name": "python",
   "nbconvert_exporter": "python",
   "pygments_lexer": "ipython3",
   "version": "3.8.18"
  },
  "papermill": {
   "default_parameters": {},
   "duration": null,
   "end_time": null,
   "environment_variables": {},
   "exception": null,
   "input_path": "__notebook__.ipynb",
   "output_path": "__notebook__.ipynb",
   "parameters": {},
   "start_time": "2024-05-17T17:12:56.933747",
   "version": "2.5.0"
  }
 },
 "nbformat": 4,
 "nbformat_minor": 5
}
